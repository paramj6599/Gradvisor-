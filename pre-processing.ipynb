{
 "cells": [
  {
   "cell_type": "code",
   "execution_count": 1,
   "id": "9ed6a309",
   "metadata": {},
   "outputs": [],
   "source": [
    "import random"
   ]
  },
  {
   "cell_type": "code",
   "execution_count": null,
   "id": "59cb769f",
   "metadata": {},
   "outputs": [],
   "source": [
    "import warnings\n",
    "\n",
    "# Suppress all warnings\n",
    "warnings.filterwarnings(\"ignore\")"
   ]
  },
  {
   "cell_type": "code",
   "execution_count": 2,
   "id": "8bf013e2",
   "metadata": {},
   "outputs": [],
   "source": [
    "gre_scores = {\n",
    "    \"University of Wisconsin Madison\": random.randint(320, 330),\n",
    "    \"University of Pennsylvania\": random.randint(320, 330),\n",
    "    \"University of Michigan Ann Arbor\": random.randint(320, 330),\n",
    "    \"University of Illinois Urbana-Champaign\": random.randint(320, 330),\n",
    "    \"University of California San Diego\": random.randint(320, 330),\n",
    "    \"University of California Los Angeles\": random.randint(320, 330),\n",
    "    \"Stanford University\": random.randint(320, 330),\n",
    "    \"Princeton University\": random.randint(320, 330),\n",
    "    \"Northwestern University\": random.randint(310, 320),\n",
    "    \"New York University\": random.randint(310, 320),\n",
    "    \"Carnegie Mellon University\": random.randint(320, 330),\n",
    "    \"California Institute of Technology\": random.randint(320, 330),\n",
    "    \"Columbia University\": random.randint(320, 330),\n",
    "    \"Cornell University\": random.randint(320, 330),\n",
    "    \"Massachusetts Institute of Technology\": random.randint(320, 330),\n",
    "    \"Johns Hopkins University\": random.randint(320, 330),\n",
    "    \"Harvard University\": random.randint(300, 310),\n",
    "    \"University of Washington\": random.randint(300, 310),\n",
    "    \"University of Texas Austin\": random.randint(310, 320),\n",
    "    \"University of Minnesota Twin Cities\": random.randint(310, 320),\n",
    "    \"Purdue University\": random.randint(320, 330),\n",
    "    \"Georgia Institute of Technology\": random.randint(320, 330),\n",
    "    \"Virginia Polytechnic Institute and State University\": random.randint(320, 330),\n",
    "    \"University of Southern California\": random.randint(320, 330),\n",
    "    \"University of California Davis\": random.randint(300, 310),\n",
    "    \"Texas A and M University College Station\": random.randint(310, 320),\n",
    "    \"Ohio State University Columbus\": random.randint(310, 320),\n",
    "    \"University of Maryland College Park\": random.randint(310, 320),\n",
    "    \"University of Florida\": random.randint(310, 320),\n",
    "    \"University of California Santa Barbara\": random.randint(300, 310),\n",
    "    \"Rutgers University New Brunswick/Piscataway\": random.randint(300, 310),\n",
    "    \"Arizona State University\": random.randint(300, 310),\n",
    "    \"University of Massachusetts Amherst\": random.randint(290, 305),\n",
    "    \"University of Colorado Boulder\": random.randint(290, 305),\n",
    "    \"University of California Irvine\": random.randint(290, 305),\n",
    "    \"University of Arizona\": random.randint(290, 305),\n",
    "    \"North Carolina State University\": random.randint(310, 320),\n",
    "    \"University of Illinois Chicago\": random.randint(300, 310),\n",
    "    \"University of California Santa Cruz\": random.randint(290, 310),\n",
    "    \"SUNY Stony Brook\": random.randint(290, 310),\n",
    "    \"University of Cincinnati\": random.randint(280, 300),\n",
    "    \"Syracuse University\": random.randint(280, 300),\n",
    "    \"SUNY Buffalo\": random.randint(280, 300),\n",
    "    \"New Jersey Institute of Technology\": random.randint(280, 290),\n",
    "    \"George Mason University\": random.randint(280, 290),\n",
    "    \"Clemson University\": random.randint(280, 290),\n",
    "    'Worcester Polytechnic Institute': random.randint(270, 280),\n",
    "    'Wayne State University': random.randint(270, 280),\n",
    "    'University of Utah': random.randint(270, 280),\n",
    "    'University of Texas Dallas': random.randint(270, 280),\n",
    "    'University of Texas Arlington': random.randint(270, 280),\n",
    "    'University of North Carolina Charlotte': random.randint(270, 280),\n",
    "    'University of North Carolina Chapel Hill': random.randint(270, 280),\n",
    "    'Northeastern University': random.randint(270, 280)\n",
    "}\n"
   ]
  },
  {
   "cell_type": "code",
   "execution_count": 4,
   "id": "07d5f18d",
   "metadata": {},
   "outputs": [],
   "source": [
    "import pandas as pd\n",
    "import numpy as np\n",
    "from sklearn.model_selection import train_test_split, GridSearchCV\n",
    "from sklearn.ensemble import RandomForestClassifier\n",
    "from sklearn.metrics import accuracy_score\n",
    "\n",
    "# Step 1: Load data from CSV\n",
    "file_path = \"user_user_wo_toefl_score.csv\"\n",
    "df = pd.read_csv(path)\n",
    "#df_user = pd.read_csv(path)"
   ]
  },
  {
   "cell_type": "code",
   "execution_count": 5,
   "id": "fb685bd8",
   "metadata": {},
   "outputs": [
    {
     "data": {
      "text/html": [
       "<div>\n",
       "<style scoped>\n",
       "    .dataframe tbody tr th:only-of-type {\n",
       "        vertical-align: middle;\n",
       "    }\n",
       "\n",
       "    .dataframe tbody tr th {\n",
       "        vertical-align: top;\n",
       "    }\n",
       "\n",
       "    .dataframe thead th {\n",
       "        text-align: right;\n",
       "    }\n",
       "</style>\n",
       "<table border=\"1\" class=\"dataframe\">\n",
       "  <thead>\n",
       "    <tr style=\"text-align: right;\">\n",
       "      <th></th>\n",
       "      <th>userName</th>\n",
       "      <th>major</th>\n",
       "      <th>researchExp</th>\n",
       "      <th>industryExp</th>\n",
       "      <th>internExp</th>\n",
       "      <th>greV</th>\n",
       "      <th>greQ</th>\n",
       "      <th>journalPubs</th>\n",
       "      <th>confPubs</th>\n",
       "      <th>cgpa</th>\n",
       "      <th>univName</th>\n",
       "      <th>admit</th>\n",
       "    </tr>\n",
       "  </thead>\n",
       "  <tbody>\n",
       "    <tr>\n",
       "      <th>0</th>\n",
       "      <td>143saf</td>\n",
       "      <td>Robotics</td>\n",
       "      <td>0</td>\n",
       "      <td>18</td>\n",
       "      <td>5.0</td>\n",
       "      <td>160.00</td>\n",
       "      <td>167.000</td>\n",
       "      <td>0</td>\n",
       "      <td>0</td>\n",
       "      <td>0.8500</td>\n",
       "      <td>Worcester Polytechnic Institute</td>\n",
       "      <td>1</td>\n",
       "    </tr>\n",
       "    <tr>\n",
       "      <th>1</th>\n",
       "      <td>AB25</td>\n",
       "      <td>MIS</td>\n",
       "      <td>0</td>\n",
       "      <td>66</td>\n",
       "      <td>0.0</td>\n",
       "      <td>146.00</td>\n",
       "      <td>157.000</td>\n",
       "      <td>0</td>\n",
       "      <td>0</td>\n",
       "      <td>0.7828</td>\n",
       "      <td>Worcester Polytechnic Institute</td>\n",
       "      <td>1</td>\n",
       "    </tr>\n",
       "    <tr>\n",
       "      <th>2</th>\n",
       "      <td>abhijitgang</td>\n",
       "      <td>MIS</td>\n",
       "      <td>0</td>\n",
       "      <td>0</td>\n",
       "      <td>0.0</td>\n",
       "      <td>89.25</td>\n",
       "      <td>163.625</td>\n",
       "      <td>0</td>\n",
       "      <td>0</td>\n",
       "      <td>0.5700</td>\n",
       "      <td>Worcester Polytechnic Institute</td>\n",
       "      <td>1</td>\n",
       "    </tr>\n",
       "    <tr>\n",
       "      <th>3</th>\n",
       "      <td>agteakash</td>\n",
       "      <td>MIS</td>\n",
       "      <td>0</td>\n",
       "      <td>0</td>\n",
       "      <td>0.0</td>\n",
       "      <td>150.00</td>\n",
       "      <td>161.000</td>\n",
       "      <td>0</td>\n",
       "      <td>0</td>\n",
       "      <td>0.6220</td>\n",
       "      <td>Worcester Polytechnic Institute</td>\n",
       "      <td>1</td>\n",
       "    </tr>\n",
       "    <tr>\n",
       "      <th>4</th>\n",
       "      <td>alankarMIS</td>\n",
       "      <td>MIS</td>\n",
       "      <td>0</td>\n",
       "      <td>0</td>\n",
       "      <td>0.0</td>\n",
       "      <td>147.00</td>\n",
       "      <td>156.000</td>\n",
       "      <td>0</td>\n",
       "      <td>0</td>\n",
       "      <td>0.5200</td>\n",
       "      <td>Worcester Polytechnic Institute</td>\n",
       "      <td>1</td>\n",
       "    </tr>\n",
       "  </tbody>\n",
       "</table>\n",
       "</div>"
      ],
      "text/plain": [
       "      userName     major  researchExp  industryExp  internExp    greV  \\\n",
       "0       143saf  Robotics            0           18        5.0  160.00   \n",
       "1         AB25       MIS            0           66        0.0  146.00   \n",
       "2  abhijitgang       MIS            0            0        0.0   89.25   \n",
       "3    agteakash       MIS            0            0        0.0  150.00   \n",
       "4   alankarMIS       MIS            0            0        0.0  147.00   \n",
       "\n",
       "      greQ  journalPubs  confPubs    cgpa                         univName  \\\n",
       "0  167.000            0         0  0.8500  Worcester Polytechnic Institute   \n",
       "1  157.000            0         0  0.7828  Worcester Polytechnic Institute   \n",
       "2  163.625            0         0  0.5700  Worcester Polytechnic Institute   \n",
       "3  161.000            0         0  0.6220  Worcester Polytechnic Institute   \n",
       "4  156.000            0         0  0.5200  Worcester Polytechnic Institute   \n",
       "\n",
       "   admit  \n",
       "0      1  \n",
       "1      1  \n",
       "2      1  \n",
       "3      1  \n",
       "4      1  "
      ]
     },
     "execution_count": 5,
     "metadata": {},
     "output_type": "execute_result"
    }
   ],
   "source": [
    "df.head()"
   ]
  },
  {
   "cell_type": "code",
   "execution_count": 6,
   "id": "92ba2ad1",
   "metadata": {},
   "outputs": [],
   "source": [
    "# Create a mapping from university names to GRE scores\n",
    "univ_to_gre_score = {univ: gre_scores.get(univ, None) for univ in df['univName']}\n",
    "\n",
    "# Add a new column 'gre_score' based on the mapping\n",
    "df['gre_score'] = df['univName'].map(univ_to_gre_score)"
   ]
  },
  {
   "cell_type": "code",
   "execution_count": 9,
   "id": "49bf4e00",
   "metadata": {},
   "outputs": [
    {
     "name": "stdout",
     "output_type": "stream",
     "text": [
      "List of universities with NaN gre_score:\n",
      "[]\n"
     ]
    }
   ],
   "source": [
    "# Filter rows where gre_score is NaN\n",
    "rows_with_nan_gre_score = df[df['gre_score'].isna()]\n",
    "\n",
    "# Display universities with NaN gre_score\n",
    "universities_with_nan_gre_score = rows_with_nan_gre_score['univName'].unique()\n",
    "\n",
    "print(\"List of universities with NaN gre_score:\")\n",
    "print(universities_with_nan_gre_score)\n"
   ]
  },
  {
   "cell_type": "code",
   "execution_count": 15,
   "id": "4fc0536a",
   "metadata": {},
   "outputs": [],
   "source": [
    "df = df[df['admit'] != 0]"
   ]
  },
  {
   "cell_type": "code",
   "execution_count": 16,
   "id": "80d82546",
   "metadata": {},
   "outputs": [],
   "source": [
    "# Export the filtered DataFrame as CSV\n",
    "df.to_csv('pre_processed_data.csv', index=False)"
   ]
  },
  {
   "cell_type": "code",
   "execution_count": 13,
   "id": "a95f10d7",
   "metadata": {},
   "outputs": [
    {
     "name": "stdout",
     "output_type": "stream",
     "text": [
      "Number of unique universities: 54\n"
     ]
    }
   ],
   "source": [
    "X = df.drop(columns=['userName','major',\"univName\",\"admit\", 'greV','greQ'])\n",
    "\n",
    "y = df[\"univName\"]\n",
    "print(\"Number of unique universities:\", df['univName'].nunique())"
   ]
  },
  {
   "cell_type": "code",
   "execution_count": null,
   "id": "7771301f",
   "metadata": {},
   "outputs": [],
   "source": []
  }
 ],
 "metadata": {
  "kernelspec": {
   "display_name": "Python 3 (ipykernel)",
   "language": "python",
   "name": "python3"
  },
  "language_info": {
   "codemirror_mode": {
    "name": "ipython",
    "version": 3
   },
   "file_extension": ".py",
   "mimetype": "text/x-python",
   "name": "python",
   "nbconvert_exporter": "python",
   "pygments_lexer": "ipython3",
   "version": "3.11.4"
  }
 },
 "nbformat": 4,
 "nbformat_minor": 5
}
