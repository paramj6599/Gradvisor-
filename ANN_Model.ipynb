{
  "nbformat": 4,
  "nbformat_minor": 0,
  "metadata": {
    "colab": {
      "provenance": [],
      "gpuType": "T4"
    },
    "kernelspec": {
      "name": "python3",
      "display_name": "Python 3"
    },
    "language_info": {
      "name": "python"
    },
    "accelerator": "GPU"
  },
  "cells": [
    {
      "cell_type": "code",
      "execution_count": 17,
      "metadata": {
        "colab": {
          "base_uri": "https://localhost:8080/"
        },
        "id": "xP5G_yA31MvG",
        "outputId": "3f4f4b1b-b38b-48de-bb63-2a11f58764dd"
      },
      "outputs": [
        {
          "output_type": "stream",
          "name": "stdout",
          "text": [
            "Google Drive is mounted.\n"
          ]
        }
      ],
      "source": [
        "import os\n",
        "\n",
        "# Check if Google Drive is mounted\n",
        "drive_mounted = os.path.isdir(\"/content/drive/My Drive\")\n",
        "if drive_mounted:\n",
        "    print(\"Google Drive is mounted.\")\n",
        "else:\n",
        "    print(\"Google Drive is not mounted. Please mount it.\")"
      ]
    },
    {
      "cell_type": "code",
      "source": [
        "import pandas as pd\n",
        "import matplotlib.pyplot as plt\n",
        "import numpy as np\n",
        "from sklearn.model_selection import train_test_split\n",
        "from sklearn.metrics import accuracy_score, confusion_matrix, precision_score, recall_score"
      ],
      "metadata": {
        "id": "YkCfW8-C1z5Z"
      },
      "execution_count": 18,
      "outputs": []
    },
    {
      "cell_type": "code",
      "source": [],
      "metadata": {
        "id": "VMAgjZA416um"
      },
      "execution_count": 3,
      "outputs": []
    },
    {
      "cell_type": "code",
      "source": [
        "#warnings.filterwarnings('ignore')\n",
        "import seaborn as sns\n",
        "from keras import Sequential\n",
        "from keras.layers import Dense, Dropout\n",
        "from keras.utils import to_categorical"
      ],
      "metadata": {
        "id": "GMXhKcdY1605"
      },
      "execution_count": 19,
      "outputs": []
    },
    {
      "cell_type": "code",
      "source": [
        "from sklearn.preprocessing import MinMaxScaler, LabelEncoder, RobustScaler\n",
        "import warnings"
      ],
      "metadata": {
        "id": "sonRXb1d19eH"
      },
      "execution_count": 20,
      "outputs": []
    },
    {
      "cell_type": "code",
      "source": [
        "from imblearn.over_sampling import SMOTE"
      ],
      "metadata": {
        "id": "nNkdqz3P2CDG"
      },
      "execution_count": 21,
      "outputs": []
    },
    {
      "cell_type": "code",
      "source": [
        "import pandas as pd\n",
        "from sklearn.preprocessing import LabelEncoder\n",
        "\n",
        "# Load the dataset\n",
        "df = pd.read_csv('/content/drive/MyDrive/user_user_with_all_columns_modified.csv')\n",
        "\n",
        "# Select only the first 20 rows\n",
        "df = df.head(20)\n",
        "\n",
        "# Separate features (x) and target (y)\n",
        "y = df.univName  # Name of the University is our target\n",
        "x = df.drop(['userName', 'major', 'univName', 'admit'], axis=1)  # Remove University name to get parameters\n",
        "\n",
        "# Label the University names to perform SMOTE\n",
        "encoder = LabelEncoder()\n",
        "encoded_Y = encoder.fit_transform(y)\n"
      ],
      "metadata": {
        "id": "tStpTkkS2Ddt"
      },
      "execution_count": 22,
      "outputs": []
    },
    {
      "cell_type": "code",
      "source": [
        "x.size"
      ],
      "metadata": {
        "colab": {
          "base_uri": "https://localhost:8080/"
        },
        "id": "EBKfk-Sg8GYB",
        "outputId": "c362f14b-8c61-45a0-8aa1-ef49803b3515"
      },
      "execution_count": 35,
      "outputs": [
        {
          "output_type": "execute_result",
          "data": {
            "text/plain": [
              "440"
            ]
          },
          "metadata": {},
          "execution_count": 35
        }
      ]
    },
    {
      "cell_type": "code",
      "source": [
        "x1 = pd.get_dummies(x)\n"
      ],
      "metadata": {
        "id": "04vSvWSt2QxT"
      },
      "execution_count": 23,
      "outputs": []
    },
    {
      "cell_type": "code",
      "source": [
        "x1.fillna(0, inplace=True)"
      ],
      "metadata": {
        "id": "T1quvqdj6hXc"
      },
      "execution_count": 24,
      "outputs": []
    },
    {
      "cell_type": "code",
      "source": [
        "# Assign labels 1 to 5 for the first 5 classes and labels 6 to 10 for the next 5 classes\n",
        "for i in range(5):\n",
        "    encoded_Y[i] = 1\n",
        "for i in range(5, 10):\n",
        "    encoded_Y[i] = 2"
      ],
      "metadata": {
        "id": "sBRbzBMB6mzF"
      },
      "execution_count": 25,
      "outputs": []
    },
    {
      "cell_type": "code",
      "source": [
        "print(encoded_Y)"
      ],
      "metadata": {
        "colab": {
          "base_uri": "https://localhost:8080/"
        },
        "id": "rfc5JeAu6qeG",
        "outputId": "52ea49e9-4ba4-4d1c-b20d-1eee4985c55b"
      },
      "execution_count": 26,
      "outputs": [
        {
          "output_type": "stream",
          "name": "stdout",
          "text": [
            "[1 1 1 1 1 2 2 2 2 2 0 0 0 0 0 0 0 0 0 0]\n"
          ]
        }
      ]
    },
    {
      "cell_type": "code",
      "source": [
        "print(x1)"
      ],
      "metadata": {
        "colab": {
          "base_uri": "https://localhost:8080/"
        },
        "id": "xU9kEhZS7Oda",
        "outputId": "f619e42d-bc27-4f9b-b093-6c47e7854bf6"
      },
      "execution_count": 27,
      "outputs": [
        {
          "output_type": "stream",
          "name": "stdout",
          "text": [
            "    researchExp  industryExp  toeflScore  toeflEssay  internExp     greV  \\\n",
            "0             0           18       112.0        26.0        5.0  160.000   \n",
            "1             0            0         0.0         0.0        0.0    0.000   \n",
            "2             0           66        94.0        21.0        0.0  146.000   \n",
            "3             0            0         0.0         0.0        0.0    0.000   \n",
            "4             0            0        81.0         0.0        0.0   89.250   \n",
            "5             0            0       273.0         6.0        0.0   87.125   \n",
            "6             0            0       104.0        27.0        0.0  150.000   \n",
            "7             0            0        95.0        22.0        0.0  147.000   \n",
            "8             0            0       101.0        24.0        0.0  104.125   \n",
            "9             0            0       107.0         0.0        0.0  116.875   \n",
            "10            0            0        94.0        21.0        0.0   89.250   \n",
            "11            0            0        99.0         0.0        0.0  104.125   \n",
            "12            0            0        99.0         0.0        0.0  104.125   \n",
            "13            0            0        99.0         0.0        0.0  104.125   \n",
            "14            0            0        91.0        21.0        0.0  146.000   \n",
            "15            0           39       101.0        24.0        0.0  149.000   \n",
            "16            0            0        96.0         0.0        0.0  131.750   \n",
            "17            0           24        98.0         0.0        0.0  143.000   \n",
            "18            0            0       111.0         0.0        0.0  156.000   \n",
            "19            0            0       112.0        29.0        0.0  154.000   \n",
            "\n",
            "       greQ  journalPubs   greA  topperCgpa  ...  ugCollege_MU  \\\n",
            "0   167.000          0.0    4.5        8.90  ...         False   \n",
            "1     0.000          0.0    0.0        0.00  ...         False   \n",
            "2   157.000          0.0    3.0       81.00  ...         False   \n",
            "3     0.000          0.0    0.0        0.00  ...         False   \n",
            "4   163.625          0.0    2.5       70.00  ...         False   \n",
            "5     0.000          0.0  600.0       75.00  ...         False   \n",
            "6   161.000          0.0    4.5       77.81  ...         False   \n",
            "7   156.000          0.0    3.0       76.00  ...          True   \n",
            "8   157.250          0.0    3.0       74.00  ...          True   \n",
            "9   165.750          0.0    4.5        0.00  ...         False   \n",
            "10  144.500          0.0    3.5        0.00  ...         False   \n",
            "11  165.750          0.0    3.5       77.00  ...         False   \n",
            "12  165.750          0.0    3.5       75.00  ...         False   \n",
            "13  165.750          0.0    3.5       75.00  ...         False   \n",
            "14  161.000          0.0    3.0       65.00  ...         False   \n",
            "15  159.000          0.0    3.0       80.00  ...         False   \n",
            "16  146.625          0.0    3.0       81.00  ...         False   \n",
            "17  159.000          0.0    3.0       80.00  ...          True   \n",
            "18  159.000          0.0    3.5       82.00  ...         False   \n",
            "19  161.000          0.0    3.5        9.50  ...         False   \n",
            "\n",
            "    ugCollege_Pune University  ugCollege_RAIT  ugCollege_RGPV  \\\n",
            "0                       False           False           False   \n",
            "1                       False           False           False   \n",
            "2                       False           False           False   \n",
            "3                       False           False           False   \n",
            "4                        True           False           False   \n",
            "5                       False           False           False   \n",
            "6                       False           False           False   \n",
            "7                       False           False           False   \n",
            "8                       False           False           False   \n",
            "9                       False           False           False   \n",
            "10                      False            True           False   \n",
            "11                      False            True           False   \n",
            "12                      False           False           False   \n",
            "13                      False           False           False   \n",
            "14                      False           False           False   \n",
            "15                      False           False           False   \n",
            "16                      False           False           False   \n",
            "17                      False           False           False   \n",
            "18                      False           False            True   \n",
            "19                      False           False           False   \n",
            "\n",
            "    ugCollege_Ramrao Adik Institute of Technology  ugCollege_SASTRA  \\\n",
            "0                                           False             False   \n",
            "1                                           False             False   \n",
            "2                                           False             False   \n",
            "3                                           False             False   \n",
            "4                                           False             False   \n",
            "5                                           False             False   \n",
            "6                                           False             False   \n",
            "7                                           False             False   \n",
            "8                                           False             False   \n",
            "9                                           False             False   \n",
            "10                                          False             False   \n",
            "11                                          False             False   \n",
            "12                                           True             False   \n",
            "13                                           True             False   \n",
            "14                                          False             False   \n",
            "15                                          False             False   \n",
            "16                                          False             False   \n",
            "17                                          False             False   \n",
            "18                                          False             False   \n",
            "19                                          False              True   \n",
            "\n",
            "    ugCollege_Thadomal Shahani Engineering College  \\\n",
            "0                                            False   \n",
            "1                                            False   \n",
            "2                                            False   \n",
            "3                                            False   \n",
            "4                                            False   \n",
            "5                                             True   \n",
            "6                                            False   \n",
            "7                                            False   \n",
            "8                                            False   \n",
            "9                                            False   \n",
            "10                                           False   \n",
            "11                                           False   \n",
            "12                                           False   \n",
            "13                                           False   \n",
            "14                                           False   \n",
            "15                                           False   \n",
            "16                                           False   \n",
            "17                                           False   \n",
            "18                                           False   \n",
            "19                                           False   \n",
            "\n",
            "    ugCollege_University of Mumbai  ugCollege_University of Pune  \\\n",
            "0                            False                         False   \n",
            "1                            False                         False   \n",
            "2                            False                         False   \n",
            "3                            False                         False   \n",
            "4                            False                         False   \n",
            "5                            False                         False   \n",
            "6                             True                         False   \n",
            "7                            False                         False   \n",
            "8                            False                         False   \n",
            "9                            False                         False   \n",
            "10                           False                         False   \n",
            "11                           False                         False   \n",
            "12                           False                         False   \n",
            "13                           False                         False   \n",
            "14                           False                          True   \n",
            "15                           False                         False   \n",
            "16                           False                         False   \n",
            "17                           False                         False   \n",
            "18                           False                         False   \n",
            "19                           False                         False   \n",
            "\n",
            "    ugCollege_University of Rajasthan  \n",
            "0                               False  \n",
            "1                               False  \n",
            "2                               False  \n",
            "3                               False  \n",
            "4                               False  \n",
            "5                               False  \n",
            "6                               False  \n",
            "7                               False  \n",
            "8                               False  \n",
            "9                               False  \n",
            "10                              False  \n",
            "11                              False  \n",
            "12                              False  \n",
            "13                              False  \n",
            "14                              False  \n",
            "15                              False  \n",
            "16                               True  \n",
            "17                              False  \n",
            "18                              False  \n",
            "19                              False  \n",
            "\n",
            "[20 rows x 83 columns]\n"
          ]
        }
      ]
    },
    {
      "cell_type": "code",
      "source": [
        "x1.size"
      ],
      "metadata": {
        "colab": {
          "base_uri": "https://localhost:8080/"
        },
        "id": "gQF8madF8CMV",
        "outputId": "0e0f10ff-eb8c-4543-d0d8-8f578e4e8d43"
      },
      "execution_count": 34,
      "outputs": [
        {
          "output_type": "execute_result",
          "data": {
            "text/plain": [
              "1660"
            ]
          },
          "metadata": {},
          "execution_count": 34
        }
      ]
    },
    {
      "cell_type": "code",
      "source": [
        "# Perform over_sampling to balance the dataset\n",
        "#smote = SMOTE(sampling_strategy='not majority')\n",
        "\n",
        "#X1, Y1 = smote.fit_resample(x1,encoded_Y)\n",
        "\n",
        "\n",
        "# Scale the values\n",
        "sc = RobustScaler()       # Robust scaler takes care of outliers as well\n",
        "X = sc.fit_transform(x1)\n",
        "\n",
        "# One-hot encoding of the University Names\n",
        "Y = to_categorical(encoded_Y)\n"
      ],
      "metadata": {
        "id": "NXuaXk6C2W36"
      },
      "execution_count": 29,
      "outputs": []
    },
    {
      "cell_type": "code",
      "source": [
        "# Make the train and test set\n",
        "X_train, X_test, Y_train, Y_test = train_test_split(X,Y,test_size=0.2,random_state=42,shuffle=True)\n",
        "\n",
        "classifier = Sequential()\n",
        "classifier.add(Dense(400, activation='relu', kernel_initializer='random_normal', input_dim=X_test.shape[1]))\n",
        "classifier.add(Dense(800, activation='relu', kernel_initializer='random_normal'))\n",
        "classifier.add(Dense(100, activation='relu', kernel_initializer='random_normal'))\n",
        "classifier.add(Dense(36, activation='softmax', kernel_initializer='random_normal'))\n",
        "classifier.compile(optimizer='adam', loss='categorical_crossentropy', metrics=['accuracy'])"
      ],
      "metadata": {
        "id": "z9dQ0cxX7kml"
      },
      "execution_count": 30,
      "outputs": []
    },
    {
      "cell_type": "code",
      "source": [
        "X.size"
      ],
      "metadata": {
        "colab": {
          "base_uri": "https://localhost:8080/"
        },
        "id": "WK3vGLZj73QD",
        "outputId": "333a3617-44b5-4000-9aaa-9e8f65082a16"
      },
      "execution_count": 32,
      "outputs": [
        {
          "output_type": "execute_result",
          "data": {
            "text/plain": [
              "1660"
            ]
          },
          "metadata": {},
          "execution_count": 32
        }
      ]
    },
    {
      "cell_type": "code",
      "source": [
        "Y.size"
      ],
      "metadata": {
        "colab": {
          "base_uri": "https://localhost:8080/"
        },
        "id": "ShM2XxVy76el",
        "outputId": "c7b59c06-8b34-4bf6-aa03-1942f93ba0d4"
      },
      "execution_count": 33,
      "outputs": [
        {
          "output_type": "execute_result",
          "data": {
            "text/plain": [
              "60"
            ]
          },
          "metadata": {},
          "execution_count": 33
        }
      ]
    },
    {
      "cell_type": "code",
      "source": [
        "classifier.fit(X_train,Y_train,batch_size=20,epochs=200,verbose=0)\n",
        "eval_model = classifier.evaluate(X_train,Y_train)\n",
        "print(\"Accuracy: \",eval_model[1])\n",
        "\n",
        "y_pred = classifier.predict_classes(X_test)\n",
        "print(y_pred)"
      ],
      "metadata": {
        "colab": {
          "base_uri": "https://localhost:8080/",
          "height": 793
        },
        "id": "DTzC1qBp7Nms",
        "outputId": "e3136d25-0f6e-48b9-c765-660f7b16edc4"
      },
      "execution_count": 31,
      "outputs": [
        {
          "output_type": "error",
          "ename": "ValueError",
          "evalue": "in user code:\n\n    File \"/usr/local/lib/python3.10/dist-packages/keras/src/engine/training.py\", line 1401, in train_function  *\n        return step_function(self, iterator)\n    File \"/usr/local/lib/python3.10/dist-packages/keras/src/engine/training.py\", line 1384, in step_function  **\n        outputs = model.distribute_strategy.run(run_step, args=(data,))\n    File \"/usr/local/lib/python3.10/dist-packages/keras/src/engine/training.py\", line 1373, in run_step  **\n        outputs = model.train_step(data)\n    File \"/usr/local/lib/python3.10/dist-packages/keras/src/engine/training.py\", line 1151, in train_step\n        loss = self.compute_loss(x, y, y_pred, sample_weight)\n    File \"/usr/local/lib/python3.10/dist-packages/keras/src/engine/training.py\", line 1209, in compute_loss\n        return self.compiled_loss(\n    File \"/usr/local/lib/python3.10/dist-packages/keras/src/engine/compile_utils.py\", line 277, in __call__\n        loss_value = loss_obj(y_t, y_p, sample_weight=sw)\n    File \"/usr/local/lib/python3.10/dist-packages/keras/src/losses.py\", line 143, in __call__\n        losses = call_fn(y_true, y_pred)\n    File \"/usr/local/lib/python3.10/dist-packages/keras/src/losses.py\", line 270, in call  **\n        return ag_fn(y_true, y_pred, **self._fn_kwargs)\n    File \"/usr/local/lib/python3.10/dist-packages/keras/src/losses.py\", line 2221, in categorical_crossentropy\n        return backend.categorical_crossentropy(\n    File \"/usr/local/lib/python3.10/dist-packages/keras/src/backend.py\", line 5573, in categorical_crossentropy\n        target.shape.assert_is_compatible_with(output.shape)\n\n    ValueError: Shapes (None, 3) and (None, 36) are incompatible\n",
          "traceback": [
            "\u001b[0;31m---------------------------------------------------------------------------\u001b[0m",
            "\u001b[0;31mValueError\u001b[0m                                Traceback (most recent call last)",
            "\u001b[0;32m<ipython-input-31-3cdb90ef5fca>\u001b[0m in \u001b[0;36m<cell line: 1>\u001b[0;34m()\u001b[0m\n\u001b[0;32m----> 1\u001b[0;31m \u001b[0mclassifier\u001b[0m\u001b[0;34m.\u001b[0m\u001b[0mfit\u001b[0m\u001b[0;34m(\u001b[0m\u001b[0mX_train\u001b[0m\u001b[0;34m,\u001b[0m\u001b[0mY_train\u001b[0m\u001b[0;34m,\u001b[0m\u001b[0mbatch_size\u001b[0m\u001b[0;34m=\u001b[0m\u001b[0;36m20\u001b[0m\u001b[0;34m,\u001b[0m\u001b[0mepochs\u001b[0m\u001b[0;34m=\u001b[0m\u001b[0;36m200\u001b[0m\u001b[0;34m,\u001b[0m\u001b[0mverbose\u001b[0m\u001b[0;34m=\u001b[0m\u001b[0;36m0\u001b[0m\u001b[0;34m)\u001b[0m\u001b[0;34m\u001b[0m\u001b[0;34m\u001b[0m\u001b[0m\n\u001b[0m\u001b[1;32m      2\u001b[0m \u001b[0meval_model\u001b[0m \u001b[0;34m=\u001b[0m \u001b[0mclassifier\u001b[0m\u001b[0;34m.\u001b[0m\u001b[0mevaluate\u001b[0m\u001b[0;34m(\u001b[0m\u001b[0mX_train\u001b[0m\u001b[0;34m,\u001b[0m\u001b[0mY_train\u001b[0m\u001b[0;34m)\u001b[0m\u001b[0;34m\u001b[0m\u001b[0;34m\u001b[0m\u001b[0m\n\u001b[1;32m      3\u001b[0m \u001b[0mprint\u001b[0m\u001b[0;34m(\u001b[0m\u001b[0;34m\"Accuracy: \"\u001b[0m\u001b[0;34m,\u001b[0m\u001b[0meval_model\u001b[0m\u001b[0;34m[\u001b[0m\u001b[0;36m1\u001b[0m\u001b[0;34m]\u001b[0m\u001b[0;34m)\u001b[0m     \u001b[0;31m# accuracy = 0.7864\u001b[0m\u001b[0;34m\u001b[0m\u001b[0;34m\u001b[0m\u001b[0m\n\u001b[1;32m      4\u001b[0m \u001b[0;34m\u001b[0m\u001b[0m\n\u001b[1;32m      5\u001b[0m \u001b[0;31m# Get the predicted class for each test sample\u001b[0m\u001b[0;34m\u001b[0m\u001b[0;34m\u001b[0m\u001b[0m\n",
            "\u001b[0;32m/usr/local/lib/python3.10/dist-packages/keras/src/utils/traceback_utils.py\u001b[0m in \u001b[0;36merror_handler\u001b[0;34m(*args, **kwargs)\u001b[0m\n\u001b[1;32m     68\u001b[0m             \u001b[0;31m# To get the full stack trace, call:\u001b[0m\u001b[0;34m\u001b[0m\u001b[0;34m\u001b[0m\u001b[0m\n\u001b[1;32m     69\u001b[0m             \u001b[0;31m# `tf.debugging.disable_traceback_filtering()`\u001b[0m\u001b[0;34m\u001b[0m\u001b[0;34m\u001b[0m\u001b[0m\n\u001b[0;32m---> 70\u001b[0;31m             \u001b[0;32mraise\u001b[0m \u001b[0me\u001b[0m\u001b[0;34m.\u001b[0m\u001b[0mwith_traceback\u001b[0m\u001b[0;34m(\u001b[0m\u001b[0mfiltered_tb\u001b[0m\u001b[0;34m)\u001b[0m \u001b[0;32mfrom\u001b[0m \u001b[0;32mNone\u001b[0m\u001b[0;34m\u001b[0m\u001b[0;34m\u001b[0m\u001b[0m\n\u001b[0m\u001b[1;32m     71\u001b[0m         \u001b[0;32mfinally\u001b[0m\u001b[0;34m:\u001b[0m\u001b[0;34m\u001b[0m\u001b[0;34m\u001b[0m\u001b[0m\n\u001b[1;32m     72\u001b[0m             \u001b[0;32mdel\u001b[0m \u001b[0mfiltered_tb\u001b[0m\u001b[0;34m\u001b[0m\u001b[0;34m\u001b[0m\u001b[0m\n",
            "\u001b[0;32m/usr/local/lib/python3.10/dist-packages/keras/src/engine/training.py\u001b[0m in \u001b[0;36mtf__train_function\u001b[0;34m(iterator)\u001b[0m\n\u001b[1;32m     13\u001b[0m                 \u001b[0;32mtry\u001b[0m\u001b[0;34m:\u001b[0m\u001b[0;34m\u001b[0m\u001b[0;34m\u001b[0m\u001b[0m\n\u001b[1;32m     14\u001b[0m                     \u001b[0mdo_return\u001b[0m \u001b[0;34m=\u001b[0m \u001b[0;32mTrue\u001b[0m\u001b[0;34m\u001b[0m\u001b[0;34m\u001b[0m\u001b[0m\n\u001b[0;32m---> 15\u001b[0;31m                     \u001b[0mretval_\u001b[0m \u001b[0;34m=\u001b[0m \u001b[0mag__\u001b[0m\u001b[0;34m.\u001b[0m\u001b[0mconverted_call\u001b[0m\u001b[0;34m(\u001b[0m\u001b[0mag__\u001b[0m\u001b[0;34m.\u001b[0m\u001b[0mld\u001b[0m\u001b[0;34m(\u001b[0m\u001b[0mstep_function\u001b[0m\u001b[0;34m)\u001b[0m\u001b[0;34m,\u001b[0m \u001b[0;34m(\u001b[0m\u001b[0mag__\u001b[0m\u001b[0;34m.\u001b[0m\u001b[0mld\u001b[0m\u001b[0;34m(\u001b[0m\u001b[0mself\u001b[0m\u001b[0;34m)\u001b[0m\u001b[0;34m,\u001b[0m \u001b[0mag__\u001b[0m\u001b[0;34m.\u001b[0m\u001b[0mld\u001b[0m\u001b[0;34m(\u001b[0m\u001b[0miterator\u001b[0m\u001b[0;34m)\u001b[0m\u001b[0;34m)\u001b[0m\u001b[0;34m,\u001b[0m \u001b[0;32mNone\u001b[0m\u001b[0;34m,\u001b[0m \u001b[0mfscope\u001b[0m\u001b[0;34m)\u001b[0m\u001b[0;34m\u001b[0m\u001b[0;34m\u001b[0m\u001b[0m\n\u001b[0m\u001b[1;32m     16\u001b[0m                 \u001b[0;32mexcept\u001b[0m\u001b[0;34m:\u001b[0m\u001b[0;34m\u001b[0m\u001b[0;34m\u001b[0m\u001b[0m\n\u001b[1;32m     17\u001b[0m                     \u001b[0mdo_return\u001b[0m \u001b[0;34m=\u001b[0m \u001b[0;32mFalse\u001b[0m\u001b[0;34m\u001b[0m\u001b[0;34m\u001b[0m\u001b[0m\n",
            "\u001b[0;31mValueError\u001b[0m: in user code:\n\n    File \"/usr/local/lib/python3.10/dist-packages/keras/src/engine/training.py\", line 1401, in train_function  *\n        return step_function(self, iterator)\n    File \"/usr/local/lib/python3.10/dist-packages/keras/src/engine/training.py\", line 1384, in step_function  **\n        outputs = model.distribute_strategy.run(run_step, args=(data,))\n    File \"/usr/local/lib/python3.10/dist-packages/keras/src/engine/training.py\", line 1373, in run_step  **\n        outputs = model.train_step(data)\n    File \"/usr/local/lib/python3.10/dist-packages/keras/src/engine/training.py\", line 1151, in train_step\n        loss = self.compute_loss(x, y, y_pred, sample_weight)\n    File \"/usr/local/lib/python3.10/dist-packages/keras/src/engine/training.py\", line 1209, in compute_loss\n        return self.compiled_loss(\n    File \"/usr/local/lib/python3.10/dist-packages/keras/src/engine/compile_utils.py\", line 277, in __call__\n        loss_value = loss_obj(y_t, y_p, sample_weight=sw)\n    File \"/usr/local/lib/python3.10/dist-packages/keras/src/losses.py\", line 143, in __call__\n        losses = call_fn(y_true, y_pred)\n    File \"/usr/local/lib/python3.10/dist-packages/keras/src/losses.py\", line 270, in call  **\n        return ag_fn(y_true, y_pred, **self._fn_kwargs)\n    File \"/usr/local/lib/python3.10/dist-packages/keras/src/losses.py\", line 2221, in categorical_crossentropy\n        return backend.categorical_crossentropy(\n    File \"/usr/local/lib/python3.10/dist-packages/keras/src/backend.py\", line 5573, in categorical_crossentropy\n        target.shape.assert_is_compatible_with(output.shape)\n\n    ValueError: Shapes (None, 3) and (None, 36) are incompatible\n"
          ]
        }
      ]
    }
  ]
}