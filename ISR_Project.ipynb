{
 "cells": [
  {
   "cell_type": "markdown",
   "id": "a65d386d",
   "metadata": {},
   "source": [
    "USER - USER CF - we can apply covarriance correlation function"
   ]
  },
  {
   "cell_type": "code",
   "execution_count": 111,
   "id": "f1fe0c63",
   "metadata": {},
   "outputs": [
    {
     "name": "stdout",
     "output_type": "stream",
     "text": [
      "            userName  Arizona State University  \\\n",
      "0         ! Superman                         0   \n",
      "1            !mpulse                         1   \n",
      "2               $4R4                         1   \n",
      "3             $aumil                         0   \n",
      "4            (:)_(:)                         0   \n",
      "...              ...                       ...   \n",
      "13384       zulu.sud                         0   \n",
      "13385       zuperman                         0   \n",
      "13386    zzkaustavzz                         0   \n",
      "13387          zztop                         1   \n",
      "13388  ~rattlesnake~                         0   \n",
      "\n",
      "       California Institute of Technology  Carnegie Mellon University  \\\n",
      "0                                       1                           0   \n",
      "1                                       0                           0   \n",
      "2                                       0                           0   \n",
      "3                                       0                           1   \n",
      "4                                       0                           0   \n",
      "...                                   ...                         ...   \n",
      "13384                                   0                           0   \n",
      "13385                                   0                           0   \n",
      "13386                                   0                           0   \n",
      "13387                                   0                           0   \n",
      "13388                                   0                           0   \n",
      "\n",
      "       Clemson University  Columbia University  Cornell University  \\\n",
      "0                       0                    0                   1   \n",
      "1                       0                    0                   0   \n",
      "2                       0                    0                   0   \n",
      "3                       0                    1                   0   \n",
      "4                       0                    0                   0   \n",
      "...                   ...                  ...                 ...   \n",
      "13384                   0                    0                   0   \n",
      "13385                   1                    0                   0   \n",
      "13386                   0                    0                   0   \n",
      "13387                   0                    1                   0   \n",
      "13388                   0                    0                   0   \n",
      "\n",
      "       George Mason University  Georgia Institute of Technology  \\\n",
      "0                            0                                1   \n",
      "1                            0                                0   \n",
      "2                            0                                1   \n",
      "3                            0                                1   \n",
      "4                            0                                0   \n",
      "...                        ...                              ...   \n",
      "13384                        0                                0   \n",
      "13385                        1                                0   \n",
      "13386                        0                                0   \n",
      "13387                        0                                0   \n",
      "13388                        0                                0   \n",
      "\n",
      "       Harvard University  ...  toeflScore  toeflEssay  internExp     greV  \\\n",
      "0                       0  ...       118.0         NaN        2.0  165.000   \n",
      "1                       0  ...        95.0         NaN        0.0  140.000   \n",
      "2                       0  ...       109.0         NaN        3.0  145.000   \n",
      "3                       0  ...       109.0         NaN        0.0  129.625   \n",
      "4                       0  ...       103.0         NaN        0.0  150.000   \n",
      "...                   ...  ...         ...         ...        ...      ...   \n",
      "13384                   0  ...        94.0         NaN        0.0  116.875   \n",
      "13385                   0  ...       101.0         NaN        0.0  159.000   \n",
      "13386                   0  ...       103.0         NaN        4.0  150.000   \n",
      "13387                   0  ...       114.0         NaN        0.0  131.750   \n",
      "13388                   0  ...       109.0         NaN       12.0  151.000   \n",
      "\n",
      "          greQ  journalPubs  confPubs    cgpa  \\\n",
      "0      169.000            2         0  0.9100   \n",
      "1      166.000            0         0  0.8280   \n",
      "2      168.000            0         0  0.8970   \n",
      "3      159.375            0         0  0.8600   \n",
      "4      166.000            0         0  0.0764   \n",
      "...        ...          ...       ...     ...   \n",
      "13384  155.125            0         0  0.7430   \n",
      "13385  165.000            0         0  0.4930   \n",
      "13386  155.000            0         0     inf   \n",
      "13387  167.875            0         0  0.9160   \n",
      "13388  151.000            0         0  0.6420   \n",
      "\n",
      "                                                univName  admit  \n",
      "0      Virginia Polytechnic Institute and State Unive...      0  \n",
      "1                    University of Minnesota Twin Cities      1  \n",
      "2                      University of Southern California      1  \n",
      "3                      University of Southern California      1  \n",
      "4                                     University of Utah      1  \n",
      "...                                                  ...    ...  \n",
      "13384                         University of Texas Dallas      1  \n",
      "13385             University of North Carolina Charlotte      0  \n",
      "13386                     University of Illinois Chicago      0  \n",
      "13387                   University of Michigan Ann Arbor      1  \n",
      "13388                         University of Pennsylvania      0  \n",
      "\n",
      "[13389 rows x 112 columns]\n"
     ]
    }
   ],
   "source": [
    "import pandas as pd\n",
    "\n",
    "# Load user data into a pandas DataFrame\n",
    "user_data = pd.read_csv(\"user_user_with_toefl_score.csv\")\n",
    "\n",
    "# Apply one-hot encoding on 'univName' and 'major' columns\n",
    "one_hot_univ = pd.get_dummies(user_data['univName'])\n",
    "one_hot_major = pd.get_dummies(user_data['major'])\n",
    "\n",
    "# Concatenate the original DataFrame with the one-hot encoded DataFrames\n",
    "user_data_encoded = pd.concat([user_data, one_hot_univ, one_hot_major], axis=1)\n",
    "\n",
    "# Define aggregation functions for grouping by 'userName'\n",
    "agg_funcs = {col: 'max' for col in one_hot_univ.columns}  # Take max for one-hot encoded university columns\n",
    "agg_funcs.update({col: 'max' for col in one_hot_major.columns})  # Update for one-hot encoded major columns\n",
    "for col in user_data.columns:\n",
    "    if col not in ['userName'] and col not in one_hot_univ.columns and col not in one_hot_major.columns:\n",
    "        agg_funcs[col] = 'first'  # Take the first value for other non-encoded columns\n",
    "\n",
    "# Group by 'userName' and apply aggregation functions\n",
    "user_combined_data = user_data_encoded.groupby('userName').agg(agg_funcs).reset_index()\n",
    "\n",
    "# Print the combined DataFrame\n",
    "print(user_combined_data)\n"
   ]
  },
  {
   "cell_type": "code",
   "execution_count": 112,
   "id": "6c720c19",
   "metadata": {},
   "outputs": [
    {
     "name": "stdout",
     "output_type": "stream",
     "text": [
      "Index(['userName', 'Arizona State University',\n",
      "       'California Institute of Technology', 'Carnegie Mellon University',\n",
      "       'Clemson University', 'Columbia University', 'Cornell University',\n",
      "       'George Mason University', 'Georgia Institute of Technology',\n",
      "       'Harvard University',\n",
      "       ...\n",
      "       'toeflScore', 'toeflEssay', 'internExp', 'greV', 'greQ', 'journalPubs',\n",
      "       'confPubs', 'cgpa', 'univName', 'admit'],\n",
      "      dtype='object', length=112)\n"
     ]
    }
   ],
   "source": [
    "print(user_combined_data.columns)"
   ]
  },
  {
   "cell_type": "code",
   "execution_count": 113,
   "id": "b07e2302",
   "metadata": {},
   "outputs": [
    {
     "name": "stdout",
     "output_type": "stream",
     "text": [
      "      userName  Arizona State University  California Institute of Technology  \\\n",
      "2281  aditya57                         0                                   0   \n",
      "\n",
      "      Carnegie Mellon University  Clemson University  Columbia University  \\\n",
      "2281                           0                   0                    0   \n",
      "\n",
      "      Cornell University  George Mason University  \\\n",
      "2281                   0                        0   \n",
      "\n",
      "      Georgia Institute of Technology  Harvard University  ...  researchExp  \\\n",
      "2281                                0                   0  ...            0   \n",
      "\n",
      "      industryExp  toeflScore  toeflEssay  internExp   greV   greQ  \\\n",
      "2281           35       110.0        28.0        3.0  163.0  166.0   \n",
      "\n",
      "      journalPubs  confPubs   cgpa  \n",
      "2281            0         0  0.823  \n",
      "\n",
      "[1 rows x 109 columns]\n"
     ]
    }
   ],
   "source": [
    "user_data_new = user_combined_data.drop(columns=['univName', 'admit', 'major'])\n",
    "print(user_data_new[user_data_new['userName'] == \"aditya57\"])"
   ]
  },
  {
   "cell_type": "code",
   "execution_count": 114,
   "id": "ffb69173",
   "metadata": {},
   "outputs": [],
   "source": [
    "import numpy as np\n",
    "user_data_new.fillna(0, inplace=True)  # Replace NaN values with 0\n",
    "user_data_new.replace([np.inf, -np.inf], 0, inplace=True)  # Replace infinite values with 0\n",
    "# Compute Pearson correlation coefficient between each pair of users\n",
    "correlation_matrix = pd.DataFrame(index=user_data_new['userName'], columns=user_data_new['userName'])"
   ]
  },
  {
   "cell_type": "code",
   "execution_count": 115,
   "id": "0cd4c625",
   "metadata": {},
   "outputs": [
    {
     "name": "stdout",
     "output_type": "stream",
     "text": [
      "['143saf' 0 0 0 0 0 0 0 0 0 0 0 0 0 0 0 0 0 0 0 0 0 0 0 0 0 0 0 0 0 0 0 0\n",
      " 0 0 0 0 0 0 0 0 0 0 0 0 0 0 0 0 0 0 0 0 0 1 0 0 0 0 0 0 0 0 0 0 0 0 0 0 0\n",
      " 0 0 0 0 0 0 0 0 0 0 0 0 0 0 0 0 1 0 0 0 0 0 0 0 0 0 0 0 0 0 18 112.0 26.0\n",
      " 5.0 160.0 167.0 0 0 0.85]\n",
      "['AB25' 0 0 0 0 0 0 0 0 0 0 0 0 0 0 1 0 0 0 0 0 0 0 0 0 0 0 0 0 0 0 0 0 0\n",
      " 0 0 0 0 0 0 0 0 0 0 0 0 0 0 0 0 0 0 0 0 1 0 0 0 0 0 0 0 0 0 0 0 0 0 0 0 0\n",
      " 0 1 0 0 0 0 0 0 0 0 0 0 0 0 0 0 0 0 0 0 0 0 0 0 0 0 0 0 0 66 94.0 21.0\n",
      " 0.0 146.0 157.0 0 0 0.7828]\n"
     ]
    }
   ],
   "source": [
    "print(user_data_new[user_data_new['userName'] == '143saf'].values.flatten())\n",
    "print(user_data_new[user_data_new['userName'] == 'AB25'].values.flatten())"
   ]
  },
  {
   "cell_type": "code",
   "execution_count": 110,
   "id": "e957f3b7",
   "metadata": {},
   "outputs": [
    {
     "ename": "KeyboardInterrupt",
     "evalue": "",
     "output_type": "error",
     "traceback": [
      "\u001b[0;31m---------------------------------------------------------------------------\u001b[0m",
      "\u001b[0;31mKeyboardInterrupt\u001b[0m                         Traceback (most recent call last)",
      "Cell \u001b[0;32mIn[110], line 7\u001b[0m\n\u001b[1;32m      2\u001b[0m     \u001b[38;5;28;01mfor\u001b[39;00m user2 \u001b[38;5;129;01min\u001b[39;00m user_data_new[\u001b[38;5;124m'\u001b[39m\u001b[38;5;124muserName\u001b[39m\u001b[38;5;124m'\u001b[39m]:\n\u001b[1;32m      3\u001b[0m \u001b[38;5;66;03m#         print(data_user1.shape, data_user2.shape,  user1)\u001b[39;00m\n\u001b[1;32m      4\u001b[0m         \u001b[38;5;28;01mif\u001b[39;00m user1 \u001b[38;5;241m!=\u001b[39m user2:\n\u001b[1;32m      5\u001b[0m \u001b[38;5;66;03m#             print(user1, user2, user_data_new[user_data_new['userName']== user1].shape,user_data_new[user_data_new['userName']== user2].shape )\u001b[39;00m\n\u001b[1;32m      6\u001b[0m \u001b[38;5;66;03m#             break\u001b[39;00m\n\u001b[0;32m----> 7\u001b[0m             data_user1 \u001b[38;5;241m=\u001b[39m user_data_new\u001b[38;5;241m.\u001b[39mloc[user_data_new[\u001b[38;5;124m'\u001b[39m\u001b[38;5;124muserName\u001b[39m\u001b[38;5;124m'\u001b[39m] \u001b[38;5;241m==\u001b[39m user1, user_data_new\u001b[38;5;241m.\u001b[39mcolumns \u001b[38;5;241m!=\u001b[39m \u001b[38;5;124m'\u001b[39m\u001b[38;5;124muserName\u001b[39m\u001b[38;5;124m'\u001b[39m]\u001b[38;5;241m.\u001b[39mvalues\u001b[38;5;241m.\u001b[39mflatten()\n\u001b[1;32m      8\u001b[0m             data_user2 \u001b[38;5;241m=\u001b[39m user_data_new\u001b[38;5;241m.\u001b[39mloc[user_data_new[\u001b[38;5;124m'\u001b[39m\u001b[38;5;124muserName\u001b[39m\u001b[38;5;124m'\u001b[39m] \u001b[38;5;241m==\u001b[39m user2, user_data_new\u001b[38;5;241m.\u001b[39mcolumns \u001b[38;5;241m!=\u001b[39m \u001b[38;5;124m'\u001b[39m\u001b[38;5;124muserName\u001b[39m\u001b[38;5;124m'\u001b[39m]\u001b[38;5;241m.\u001b[39mvalues\u001b[38;5;241m.\u001b[39mflatten()\n\u001b[1;32m      9\u001b[0m \u001b[38;5;66;03m#             print(data_user1, user1, data_user2)\u001b[39;00m\n",
      "File \u001b[0;32m~/anaconda3/lib/python3.11/site-packages/pandas/core/indexing.py:1063\u001b[0m, in \u001b[0;36m_LocationIndexer.__getitem__\u001b[0;34m(self, key)\u001b[0m\n\u001b[1;32m   1061\u001b[0m check_deprecated_indexers(key)\n\u001b[1;32m   1062\u001b[0m \u001b[38;5;28;01mif\u001b[39;00m \u001b[38;5;28mtype\u001b[39m(key) \u001b[38;5;129;01mis\u001b[39;00m \u001b[38;5;28mtuple\u001b[39m:\n\u001b[0;32m-> 1063\u001b[0m     key \u001b[38;5;241m=\u001b[39m \u001b[38;5;28mtuple\u001b[39m(\u001b[38;5;28mlist\u001b[39m(x) \u001b[38;5;28;01mif\u001b[39;00m is_iterator(x) \u001b[38;5;28;01melse\u001b[39;00m x \u001b[38;5;28;01mfor\u001b[39;00m x \u001b[38;5;129;01min\u001b[39;00m key)\n\u001b[1;32m   1064\u001b[0m     key \u001b[38;5;241m=\u001b[39m \u001b[38;5;28mtuple\u001b[39m(com\u001b[38;5;241m.\u001b[39mapply_if_callable(x, \u001b[38;5;28mself\u001b[39m\u001b[38;5;241m.\u001b[39mobj) \u001b[38;5;28;01mfor\u001b[39;00m x \u001b[38;5;129;01min\u001b[39;00m key)\n\u001b[1;32m   1065\u001b[0m     \u001b[38;5;28;01mif\u001b[39;00m \u001b[38;5;28mself\u001b[39m\u001b[38;5;241m.\u001b[39m_is_scalar_access(key):\n",
      "File \u001b[0;32m~/anaconda3/lib/python3.11/site-packages/pandas/core/indexing.py:1063\u001b[0m, in \u001b[0;36m<genexpr>\u001b[0;34m(.0)\u001b[0m\n\u001b[1;32m   1061\u001b[0m check_deprecated_indexers(key)\n\u001b[1;32m   1062\u001b[0m \u001b[38;5;28;01mif\u001b[39;00m \u001b[38;5;28mtype\u001b[39m(key) \u001b[38;5;129;01mis\u001b[39;00m \u001b[38;5;28mtuple\u001b[39m:\n\u001b[0;32m-> 1063\u001b[0m     key \u001b[38;5;241m=\u001b[39m \u001b[38;5;28mtuple\u001b[39m(\u001b[38;5;28mlist\u001b[39m(x) \u001b[38;5;28;01mif\u001b[39;00m is_iterator(x) \u001b[38;5;28;01melse\u001b[39;00m x \u001b[38;5;28;01mfor\u001b[39;00m x \u001b[38;5;129;01min\u001b[39;00m key)\n\u001b[1;32m   1064\u001b[0m     key \u001b[38;5;241m=\u001b[39m \u001b[38;5;28mtuple\u001b[39m(com\u001b[38;5;241m.\u001b[39mapply_if_callable(x, \u001b[38;5;28mself\u001b[39m\u001b[38;5;241m.\u001b[39mobj) \u001b[38;5;28;01mfor\u001b[39;00m x \u001b[38;5;129;01min\u001b[39;00m key)\n\u001b[1;32m   1065\u001b[0m     \u001b[38;5;28;01mif\u001b[39;00m \u001b[38;5;28mself\u001b[39m\u001b[38;5;241m.\u001b[39m_is_scalar_access(key):\n",
      "\u001b[0;31mKeyboardInterrupt\u001b[0m: "
     ]
    }
   ],
   "source": [
    "\n",
    "for user1 in user_data_new['userName']:\n",
    "    for user2 in user_data_new['userName']:\n",
    "#         print(data_user1.shape, data_user2.shape,  user1)\n",
    "        if user1 != user2:\n",
    "#             print(user1, user2, user_data_new[user_data_new['userName']== user1].shape,user_data_new[user_data_new['userName']== user2].shape )\n",
    "#             break\n",
    "            data_user1 = user_data_new.loc[user_data_new['userName'] == user1, user_data_new.columns != 'userName'].values.flatten()\n",
    "            data_user2 = user_data_new.loc[user_data_new['userName'] == user2, user_data_new.columns != 'userName'].values.flatten()\n",
    "#             print(data_user1, user1, data_user2)\n",
    "\n",
    "            correlation_coefficient, _ = pearsonr(data_user1, data_user2)\n",
    "            correlation_matrix.loc[user1, user2] = correlation_coefficient\n",
    "\n",
    "# Filter out NaN values (non-matching users) from the correlation matrix\n",
    "correlation_matrix = correlation_matrix.dropna()\n"
   ]
  },
  {
   "cell_type": "code",
   "execution_count": 11,
   "id": "a2c1fa48",
   "metadata": {},
   "outputs": [
    {
     "ename": "KeyError",
     "evalue": "'143saf'",
     "output_type": "error",
     "traceback": [
      "\u001b[0;31m---------------------------------------------------------------------------\u001b[0m",
      "\u001b[0;31mKeyError\u001b[0m                                  Traceback (most recent call last)",
      "File \u001b[0;32m~/anaconda3/lib/python3.11/site-packages/pandas/core/indexes/base.py:3802\u001b[0m, in \u001b[0;36mIndex.get_loc\u001b[0;34m(self, key, method, tolerance)\u001b[0m\n\u001b[1;32m   3801\u001b[0m \u001b[38;5;28;01mtry\u001b[39;00m:\n\u001b[0;32m-> 3802\u001b[0m     \u001b[38;5;28;01mreturn\u001b[39;00m \u001b[38;5;28mself\u001b[39m\u001b[38;5;241m.\u001b[39m_engine\u001b[38;5;241m.\u001b[39mget_loc(casted_key)\n\u001b[1;32m   3803\u001b[0m \u001b[38;5;28;01mexcept\u001b[39;00m \u001b[38;5;167;01mKeyError\u001b[39;00m \u001b[38;5;28;01mas\u001b[39;00m err:\n",
      "File \u001b[0;32m~/anaconda3/lib/python3.11/site-packages/pandas/_libs/index.pyx:138\u001b[0m, in \u001b[0;36mpandas._libs.index.IndexEngine.get_loc\u001b[0;34m()\u001b[0m\n",
      "File \u001b[0;32m~/anaconda3/lib/python3.11/site-packages/pandas/_libs/index.pyx:165\u001b[0m, in \u001b[0;36mpandas._libs.index.IndexEngine.get_loc\u001b[0;34m()\u001b[0m\n",
      "File \u001b[0;32mpandas/_libs/hashtable_class_helper.pxi:5745\u001b[0m, in \u001b[0;36mpandas._libs.hashtable.PyObjectHashTable.get_item\u001b[0;34m()\u001b[0m\n",
      "File \u001b[0;32mpandas/_libs/hashtable_class_helper.pxi:5753\u001b[0m, in \u001b[0;36mpandas._libs.hashtable.PyObjectHashTable.get_item\u001b[0;34m()\u001b[0m\n",
      "\u001b[0;31mKeyError\u001b[0m: '143saf'",
      "\nThe above exception was the direct cause of the following exception:\n",
      "\u001b[0;31mKeyError\u001b[0m                                  Traceback (most recent call last)",
      "Cell \u001b[0;32mIn[11], line 3\u001b[0m\n\u001b[1;32m      1\u001b[0m \u001b[38;5;66;03m# Perform user-user collaborative filtering for a target user\u001b[39;00m\n\u001b[1;32m      2\u001b[0m target_user \u001b[38;5;241m=\u001b[39m \u001b[38;5;124m'\u001b[39m\u001b[38;5;124m143saf\u001b[39m\u001b[38;5;124m'\u001b[39m\n\u001b[0;32m----> 3\u001b[0m similar_users \u001b[38;5;241m=\u001b[39m correlation_matrix[target_user]\n\u001b[1;32m      4\u001b[0m \u001b[38;5;28mprint\u001b[39m(\u001b[38;5;124m\"\u001b[39m\u001b[38;5;124mSimilar users for\u001b[39m\u001b[38;5;124m\"\u001b[39m, target_user, \u001b[38;5;124m\"\u001b[39m\u001b[38;5;124m:\u001b[39m\u001b[38;5;124m\"\u001b[39m, similar_users)\n",
      "File \u001b[0;32m~/anaconda3/lib/python3.11/site-packages/pandas/core/frame.py:3807\u001b[0m, in \u001b[0;36mDataFrame.__getitem__\u001b[0;34m(self, key)\u001b[0m\n\u001b[1;32m   3805\u001b[0m \u001b[38;5;28;01mif\u001b[39;00m \u001b[38;5;28mself\u001b[39m\u001b[38;5;241m.\u001b[39mcolumns\u001b[38;5;241m.\u001b[39mnlevels \u001b[38;5;241m>\u001b[39m \u001b[38;5;241m1\u001b[39m:\n\u001b[1;32m   3806\u001b[0m     \u001b[38;5;28;01mreturn\u001b[39;00m \u001b[38;5;28mself\u001b[39m\u001b[38;5;241m.\u001b[39m_getitem_multilevel(key)\n\u001b[0;32m-> 3807\u001b[0m indexer \u001b[38;5;241m=\u001b[39m \u001b[38;5;28mself\u001b[39m\u001b[38;5;241m.\u001b[39mcolumns\u001b[38;5;241m.\u001b[39mget_loc(key)\n\u001b[1;32m   3808\u001b[0m \u001b[38;5;28;01mif\u001b[39;00m is_integer(indexer):\n\u001b[1;32m   3809\u001b[0m     indexer \u001b[38;5;241m=\u001b[39m [indexer]\n",
      "File \u001b[0;32m~/anaconda3/lib/python3.11/site-packages/pandas/core/indexes/base.py:3804\u001b[0m, in \u001b[0;36mIndex.get_loc\u001b[0;34m(self, key, method, tolerance)\u001b[0m\n\u001b[1;32m   3802\u001b[0m     \u001b[38;5;28;01mreturn\u001b[39;00m \u001b[38;5;28mself\u001b[39m\u001b[38;5;241m.\u001b[39m_engine\u001b[38;5;241m.\u001b[39mget_loc(casted_key)\n\u001b[1;32m   3803\u001b[0m \u001b[38;5;28;01mexcept\u001b[39;00m \u001b[38;5;167;01mKeyError\u001b[39;00m \u001b[38;5;28;01mas\u001b[39;00m err:\n\u001b[0;32m-> 3804\u001b[0m     \u001b[38;5;28;01mraise\u001b[39;00m \u001b[38;5;167;01mKeyError\u001b[39;00m(key) \u001b[38;5;28;01mfrom\u001b[39;00m \u001b[38;5;21;01merr\u001b[39;00m\n\u001b[1;32m   3805\u001b[0m \u001b[38;5;28;01mexcept\u001b[39;00m \u001b[38;5;167;01mTypeError\u001b[39;00m:\n\u001b[1;32m   3806\u001b[0m     \u001b[38;5;66;03m# If we have a listlike key, _check_indexing_error will raise\u001b[39;00m\n\u001b[1;32m   3807\u001b[0m     \u001b[38;5;66;03m#  InvalidIndexError. Otherwise we fall through and re-raise\u001b[39;00m\n\u001b[1;32m   3808\u001b[0m     \u001b[38;5;66;03m#  the TypeError.\u001b[39;00m\n\u001b[1;32m   3809\u001b[0m     \u001b[38;5;28mself\u001b[39m\u001b[38;5;241m.\u001b[39m_check_indexing_error(key)\n",
      "\u001b[0;31mKeyError\u001b[0m: '143saf'"
     ]
    }
   ],
   "source": [
    "# Perform user-user collaborative filtering for a target user\n",
    "target_user = '143saf'\n",
    "similar_users = correlation_matrix[target_user]\n",
    "print(\"Similar users for\", target_user, \":\", similar_users)\n"
   ]
  }
 ],
 "metadata": {
  "kernelspec": {
   "display_name": "Python 3 (ipykernel)",
   "language": "python",
   "name": "python3"
  },
  "language_info": {
   "codemirror_mode": {
    "name": "ipython",
    "version": 3
   },
   "file_extension": ".py",
   "mimetype": "text/x-python",
   "name": "python",
   "nbconvert_exporter": "python",
   "pygments_lexer": "ipython3",
   "version": "3.11.4"
  }
 },
 "nbformat": 4,
 "nbformat_minor": 5
}
